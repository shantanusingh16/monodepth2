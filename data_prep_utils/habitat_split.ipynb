{
 "cells": [
  {
   "cell_type": "code",
   "execution_count": 1,
   "metadata": {},
   "outputs": [],
   "source": [
    "import os"
   ]
  },
  {
   "cell_type": "code",
   "execution_count": 4,
   "metadata": {},
   "outputs": [
    {
     "data": {
      "text/plain": [
       "['17DRP5sb8fy',\n",
       " '1LXtFkjw3qL',\n",
       " '1pXnuDYAj8r',\n",
       " '29hnd4uzFmX',\n",
       " '2azQ1b91cZZ',\n",
       " '2n8kARJN3HM',\n",
       " '2t7WUuJeko7',\n",
       " '5LpN3gDmAk7',\n",
       " '5q7pvUzZiYa',\n",
       " '5ZKStnWn8Zo']"
      ]
     },
     "execution_count": 4,
     "metadata": {},
     "output_type": "execute_result"
    }
   ],
   "source": [
    "avail_folders = '17DRP5sb8fy  1LXtFkjw3qL  1pXnuDYAj8r  29hnd4uzFmX  2azQ1b91cZZ  2n8kARJN3HM  2t7WUuJeko7  5LpN3gDmAk7  5q7pvUzZiYa  5ZKStnWn8Zo'.split('  ')\n",
    "avail_folders"
   ]
  },
  {
   "cell_type": "code",
   "execution_count": 2,
   "metadata": {},
   "outputs": [],
   "source": [
    "with open('/mnt/storage/Projects/Indoor-SfMLearner/splits/habitat_train_depth.txt', 'r') as f:\n",
    "    train_indoorsfm_files = f.readlines()"
   ]
  },
  {
   "cell_type": "code",
   "execution_count": 5,
   "metadata": {},
   "outputs": [],
   "source": [
    "train_habitat_files = set()\n",
    "for row in train_indoorsfm_files:\n",
    "    files = sorted(row.replace('\\n','').split(' '), key=lambda x: int(os.path.splitext(os.path.basename(x))[0]))\n",
    "    for idx in range(1, len(files) - 1):\n",
    "        foldername = files[idx].split('/')[0]\n",
    "        if foldername not in avail_folders:\n",
    "            continue\n",
    "        train_habitat_files.add('{} {}'.format(foldername, os.path.splitext(os.path.basename(files[idx]))[0]))"
   ]
  },
  {
   "cell_type": "code",
   "execution_count": 9,
   "metadata": {},
   "outputs": [],
   "source": [
    "with open('/mnt/storage/Projects/monodepth2/splits/habitat/train_files.txt', 'w') as f:\n",
    "    f.writelines([filename+'\\n' for filename in train_habitat_files])"
   ]
  },
  {
   "cell_type": "markdown",
   "metadata": {},
   "source": [
    "## Validation split"
   ]
  },
  {
   "cell_type": "code",
   "execution_count": 10,
   "metadata": {},
   "outputs": [],
   "source": [
    "with open('/mnt/storage/Projects/Indoor-SfMLearner/splits/habitat_test_depth.txt', 'r') as f:\n",
    "    val_indoorsfm_files = f.readlines()"
   ]
  },
  {
   "cell_type": "code",
   "execution_count": 11,
   "metadata": {},
   "outputs": [],
   "source": [
    "val_habitat_files = set()\n",
    "for row in val_indoorsfm_files:\n",
    "    filename = row.replace('\\n','').split(' ')[0]\n",
    "    foldername = filename.split('/')[0]\n",
    "    if foldername not in avail_folders:\n",
    "        continue\n",
    "    val_habitat_files.add('{} {}'.format(foldername, os.path.splitext(os.path.basename(filename))[0]))"
   ]
  },
  {
   "cell_type": "code",
   "execution_count": 12,
   "metadata": {},
   "outputs": [],
   "source": [
    "with open('/mnt/storage/Projects/monodepth2/splits/habitat/val_files.txt', 'w') as f:\n",
    "    f.writelines([filename+'\\n' for filename in val_habitat_files])"
   ]
  },
  {
   "cell_type": "code",
   "execution_count": null,
   "metadata": {},
   "outputs": [],
   "source": []
  }
 ],
 "metadata": {
  "kernelspec": {
   "display_name": "Python 3",
   "language": "python",
   "name": "python3"
  },
  "language_info": {
   "codemirror_mode": {
    "name": "ipython",
    "version": 3
   },
   "file_extension": ".py",
   "mimetype": "text/x-python",
   "name": "python",
   "nbconvert_exporter": "python",
   "pygments_lexer": "ipython3",
   "version": "3.6.12"
  }
 },
 "nbformat": 4,
 "nbformat_minor": 4
}
